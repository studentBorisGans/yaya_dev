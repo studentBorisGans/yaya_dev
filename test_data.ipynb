{
 "cells": [
  {
   "cell_type": "code",
   "execution_count": 5,
   "metadata": {},
   "outputs": [
    {
     "name": "stdout",
     "output_type": "stream",
     "text": [
      "Defaulting to user installation because normal site-packages is not writeable\n",
      "Requirement already satisfied: Faker in /Users/borisgans/Library/Python/3.8/lib/python/site-packages (35.2.0)\n",
      "Requirement already satisfied: python-dateutil>=2.4 in /Users/borisgans/Library/Python/3.8/lib/python/site-packages (from Faker) (2.8.2)\n",
      "Requirement already satisfied: typing-extensions in /Users/borisgans/Library/Python/3.8/lib/python/site-packages (from Faker) (4.12.2)\n",
      "Requirement already satisfied: six>=1.5 in /Users/borisgans/Library/Python/3.8/lib/python/site-packages (from python-dateutil>=2.4->Faker) (1.16.0)\n",
      "\n",
      "\u001b[1m[\u001b[0m\u001b[34;49mnotice\u001b[0m\u001b[1;39;49m]\u001b[0m\u001b[39;49m A new release of pip is available: \u001b[0m\u001b[31;49m24.2\u001b[0m\u001b[39;49m -> \u001b[0m\u001b[32;49m25.0\u001b[0m\n",
      "\u001b[1m[\u001b[0m\u001b[34;49mnotice\u001b[0m\u001b[1;39;49m]\u001b[0m\u001b[39;49m To update, run: \u001b[0m\u001b[32;49mpip3.8 install --upgrade pip\u001b[0m\n"
     ]
    }
   ],
   "source": [
    "!pip install Faker"
   ]
  },
  {
   "cell_type": "code",
   "execution_count": 1,
   "metadata": {},
   "outputs": [
    {
     "name": "stdout",
     "output_type": "stream",
     "text": [
      "Defaulting to user installation because normal site-packages is not writeable\n",
      "Requirement already satisfied: mysql-connector-python in /Users/borisgans/Library/Python/3.8/lib/python/site-packages (9.0.0)\n",
      "\n",
      "\u001b[1m[\u001b[0m\u001b[34;49mnotice\u001b[0m\u001b[1;39;49m]\u001b[0m\u001b[39;49m A new release of pip is available: \u001b[0m\u001b[31;49m24.2\u001b[0m\u001b[39;49m -> \u001b[0m\u001b[32;49m25.0\u001b[0m\n",
      "\u001b[1m[\u001b[0m\u001b[34;49mnotice\u001b[0m\u001b[1;39;49m]\u001b[0m\u001b[39;49m To update, run: \u001b[0m\u001b[32;49mpip3.8 install --upgrade pip\u001b[0m\n",
      "Defaulting to user installation because normal site-packages is not writeable\n",
      "Collecting pymysql\n",
      "  Using cached PyMySQL-1.1.1-py3-none-any.whl.metadata (4.4 kB)\n",
      "Using cached PyMySQL-1.1.1-py3-none-any.whl (44 kB)\n",
      "Installing collected packages: pymysql\n",
      "Successfully installed pymysql-1.1.1\n",
      "\n",
      "\u001b[1m[\u001b[0m\u001b[34;49mnotice\u001b[0m\u001b[1;39;49m]\u001b[0m\u001b[39;49m A new release of pip is available: \u001b[0m\u001b[31;49m24.2\u001b[0m\u001b[39;49m -> \u001b[0m\u001b[32;49m25.0\u001b[0m\n",
      "\u001b[1m[\u001b[0m\u001b[34;49mnotice\u001b[0m\u001b[1;39;49m]\u001b[0m\u001b[39;49m To update, run: \u001b[0m\u001b[32;49mpip3.8 install --upgrade pip\u001b[0m\n"
     ]
    }
   ],
   "source": [
    "!pip install mysql-connector-python  # Official MySQL driver\n",
    "# OR\n",
    "!pip install pymysql  # Alternative async driver"
   ]
  },
  {
   "cell_type": "code",
   "execution_count": null,
   "metadata": {},
   "outputs": [
    {
     "name": "stdout",
     "output_type": "stream",
     "text": [
      "Connected to MySQL database successfully!\n"
     ]
    }
   ],
   "source": [
    "import mysql.connector\n",
    "\n",
    "db_config = {\n",
    "    \"host\": \"localhost\",\n",
    "    \"user\": \"root\",         # Change if using a different username\n",
    "    \"password\": \"Root1234\", # Change to your MySQL password\n",
    "    \"database\": \"yaya_dev\"  # Change to your database name\n",
    "}\n",
    "\n",
    "# Connect to MySQL\n",
    "try:\n",
    "    conn = mysql.connector.connect(**db_config)  # Using mysql-connector\n",
    "    cursor = conn.cursor()\n",
    "    print(\"Connected to MySQL database successfully!\")\n",
    "except mysql.connector.Error as err:\n",
    "    print(f\"Error: {err}\")"
   ]
  },
  {
   "cell_type": "markdown",
   "metadata": {},
   "source": [
    "## User Data"
   ]
  },
  {
   "cell_type": "code",
   "execution_count": 18,
   "metadata": {},
   "outputs": [
    {
     "name": "stdout",
     "output_type": "stream",
     "text": [
      "{'username': 'emilyCHAMBERS647', 'first_name': 'Emily', 'last_name': 'Chambers', 'email': 'emilyCHAMBERS647@hotmail.com', 'location': 'Comoros', 'language': 'Spanish', 'gender': 'Female', 'age': 18, 'spend_class': 'E', 'notifications': 1, 'music_service': 1, 'established': 1, 'pw': 'default'}\n",
      "{'username': 'daveSANDOVAL407', 'first_name': 'Dave', 'last_name': 'Sandoval', 'email': 'daveSANDOVAL407@yahoo.com', 'location': 'Gambia', 'language': 'Spanish', 'gender': 'Female', 'age': 28, 'spend_class': 'E', 'notifications': 1, 'music_service': 1, 'established': 1, 'pw': 'default'}\n",
      "{'username': 'christianROBINSON208', 'first_name': 'Christian', 'last_name': 'Robinson', 'email': 'christianROBINSON208@hotmail.com', 'location': 'Saint Helena', 'language': 'Spanish', 'gender': 'Male', 'age': 20, 'spend_class': 'E', 'notifications': 0, 'music_service': 1, 'established': 1, 'pw': 'default'}\n",
      "{'username': 'christinaHOWARD276', 'first_name': 'Christina', 'last_name': 'Howard', 'email': 'christinaHOWARD276@yahoo.com', 'location': 'Jordan', 'language': 'Dutch', 'gender': 'Female', 'age': 20, 'spend_class': 'B', 'notifications': 1, 'music_service': 0, 'established': 1, 'pw': 'default'}\n",
      "{'username': 'dannyJOHNSON987', 'first_name': 'Danny', 'last_name': 'Johnson', 'email': 'dannyJOHNSON987@hotmail.com', 'location': 'Niger', 'language': 'Dutch', 'gender': 'Other', 'age': 18, 'spend_class': 'E', 'notifications': 0, 'music_service': 1, 'established': 1, 'pw': 'default'}\n",
      "Connected to MySQL database successfully!\n"
     ]
    }
   ],
   "source": [
    "from faker import Faker\n",
    "import random\n",
    "import numpy as np\n",
    "import mysql.connector\n",
    "\n",
    "fake = Faker()\n",
    "\n",
    "\n",
    "spend_class_choices = [\"A\", \"B\", \"C\", \"D\", \"E\"]\n",
    "spend_class_weights = [0.05, 0.10, 0.15, 0.20, 0.50]\n",
    "num_users = 100\n",
    "users = []\n",
    "\n",
    "for _ in range(num_users):\n",
    "    first_name = fake.first_name()\n",
    "    last_name = fake.last_name()\n",
    "    username = f\"{first_name.lower()}{last_name.upper()}{random.randint(10, 999)}\"\n",
    "    email = f\"{username}@{random.choice(['gmail.com', 'yahoo.com', 'hotmail.com'])}\"\n",
    "    age = int(np.random.normal(loc=23, scale=5))  # Normally distributed\n",
    "    country = fake.country()\n",
    "    language = random.choice([\"English\", \"Dutch\", \"Spanish\"])\n",
    "    gender = random.choice([\"Male\", \"Female\", \"Other\"])\n",
    "    spend_class = random.choices(spend_class_choices, weights=spend_class_weights)[0]  # Skewed towards E\n",
    "    notifications = random.choice([0, 1])\n",
    "    music_service = random.choice([0, 1])\n",
    "    established = random.choice([0, 1])\n",
    "    pw = int(np.random.normal(loc=100, scale=10))\n",
    "\n",
    "    users.append({\n",
    "        \"username\": username,\n",
    "        \"first_name\": first_name,\n",
    "        \"last_name\": last_name,\n",
    "        \"email\": email,\n",
    "        \"location\": country,\n",
    "        \"language\": language,\n",
    "        \"gender\": gender,\n",
    "        \"age\": max(18, min(60, age)),  # Clamp between 18-60\n",
    "        \"spend_class\": spend_class,\n",
    "        \"notifications\": notifications,\n",
    "        \"music_service\": music_service,\n",
    "        \"established\": established,\n",
    "        \"pw\": \"default\"\n",
    "    })\n",
    "\n",
    "# Print sample users\n",
    "for user in users[:5]:\n",
    "    print(user)\n",
    "\n",
    "\n",
    "db_config = {\n",
    "    \"host\": \"localhost\",\n",
    "    \"user\": \"root\",         # Change if using a different username\n",
    "    \"password\": \"Root1234\", # Change to your MySQL password\n",
    "    \"database\": \"yaya_dev\"  # Change to your database name\n",
    "}\n",
    "\n",
    "# Connect to MySQL\n",
    "try:\n",
    "    conn = mysql.connector.connect(**db_config)  # Using mysql-connector\n",
    "    cursor = conn.cursor()\n",
    "    # cursor.execute(\"\"\"USE yaya_dev;\"\"\")\n",
    "    print(\"Connected to MySQL database successfully!\")\n",
    "    for user in users:\n",
    "        cursor.execute(\"\"\"\n",
    "            INSERT INTO user_data (username, first_name, last_name, email, location, language, gender, age, spend_class, notifications, music_service, established, pw)\n",
    "            VALUES (%s, %s, %s, %s, %s, %s, %s, %s, %s, %s, %s, %s, %s);\n",
    "        \"\"\", (user['username'], user['first_name'], user['last_name'], user['email'], user['location'], user['language'],\n",
    "        user['gender'], user['age'], user['spend_class'], user['notifications'], user['music_service'],\n",
    "        user['established'], user['pw']))\n",
    "    conn.commit()\n",
    "\n",
    "except mysql.connector.Error as err:\n",
    "    print(f\"Error: {err}\")\n",
    "\n",
    "cursor.close()\n",
    "conn.close()"
   ]
  },
  {
   "cell_type": "markdown",
   "metadata": {},
   "source": [
    "## Venues"
   ]
  },
  {
   "cell_type": "code",
   "execution_count": 24,
   "metadata": {},
   "outputs": [
    {
     "name": "stdout",
     "output_type": "stream",
     "text": [
      "{'venue_name': 'Pacha', 'venue_capacity': 1200, 'venue_address': 'C. de Atocha, 14', 'venue_city': 'Barcelona', 'venue_state': 'Catalonia', 'venue_zip': '06878', 'venue_country': 'Spain'}\n",
      "{'venue_name': 'Opium', 'venue_capacity': 800, 'venue_address': 'C. de Atocha, 14', 'venue_city': 'Ibiza', 'venue_state': 'Balearic Islands', 'venue_zip': '06878', 'venue_country': 'Spain'}\n",
      "{'venue_name': 'Hanger48', 'venue_capacity': 200, 'venue_address': 'C. de Atocha, 14', 'venue_city': 'Madrid', 'venue_state': 'Madrid', 'venue_zip': '06878', 'venue_country': 'Spain'}\n",
      "{'venue_name': 'Icon', 'venue_capacity': 300, 'venue_address': 'C. de Atocha, 14', 'venue_city': 'Madrid', 'venue_state': 'Madrid', 'venue_zip': '06878', 'venue_country': 'Spain'}\n",
      "{'venue_name': 'Istar', 'venue_capacity': 700, 'venue_address': 'C. de Atocha, 14', 'venue_city': 'Madrid', 'venue_state': 'Madrid', 'venue_zip': '06878', 'venue_country': 'Spain'}\n",
      "{'venue_name': 'Goya Social Club', 'venue_capacity': 150, 'venue_address': 'C. de Atocha, 14', 'venue_city': 'Madrid', 'venue_state': 'Madrid', 'venue_zip': '06878', 'venue_country': 'Spain'}\n",
      "Connected to MySQL database successfully!\n"
     ]
    }
   ],
   "source": [
    "from faker import Faker\n",
    "import random\n",
    "import numpy as np\n",
    "import mysql.connector\n",
    "\n",
    "fake = Faker()\n",
    "\n",
    "\n",
    "venue_name_choices = [\"Pacha\", \"Opium\", \"Hanger48\", \"Icon\", \"Istar\", \"Goya Social Club\"]\n",
    "venue_capacity = [1200, 800, 200, 300, 700, 150]\n",
    "venue_address = [\"C. de Atocha, 14\", \"C. de Atocha, 14\", \"C. de Atocha, 14\", \"C. de Atocha, 14\", \"C. de Atocha, 14\", \"C. de Atocha, 14\"]\n",
    "venue_city = [\"Barcelona\", \"Ibiza\", \"Madrid\", \"Madrid\", \"Madrid\", \"Madrid\"]\n",
    "venue_state = [\"Catalonia\", \"Balearic Islands\", \"Madrid\", \"Madrid\", \"Madrid\", \"Madrid\"]\n",
    "venue_zip = [\"06878\", \"06878\", \"06878\", \"06878\", \"06878\", \"06878\"]\n",
    "venue_country = [\"Spain\", \"Spain\", \"Spain\", \"Spain\", \"Spain\", \"Spain\"]\n",
    "venues = []\n",
    "\n",
    "for i, venue in enumerate(range(len(venue_name_choices))):\n",
    "\n",
    "    venues.append({\n",
    "        \"venue_name\": venue_name_choices[i],\n",
    "        \"venue_capacity\": venue_capacity[i],\n",
    "        \"venue_address\": venue_address[i],\n",
    "        \"venue_city\": venue_city[i],\n",
    "        \"venue_state\": venue_state[i],\n",
    "        \"venue_zip\": venue_zip[i],\n",
    "        \"venue_country\": venue_country[i]\n",
    "    })\n",
    "\n",
    "# Print sample users\n",
    "for venue in venues:\n",
    "    print(venue)\n",
    "\n",
    "\n",
    "try:\n",
    "    conn = mysql.connector.connect(**db_config)  # Using mysql-connector\n",
    "    cursor = conn.cursor()\n",
    "    print(\"Connected to MySQL database successfully!\")\n",
    "    for venue in venues:\n",
    "        cursor.execute(\"\"\"\n",
    "            INSERT INTO venues (venue_name, venue_capacity, venue_address, venue_city, venue_state, venue_zip, venue_country) VALUES (%s, %s, %s, %s, %s, %s, %s)\"\"\", (venue['venue_name'], venue['venue_capacity'], venue['venue_address'], venue['venue_city'], venue['venue_state'], venue['venue_zip'], venue['venue_country'])\n",
    "        )\n",
    "    conn.commit()\n",
    "\n",
    "except mysql.connector.Error as err:\n",
    "    print(f\"Error: {err}\")\n",
    "\n",
    "cursor.close()\n",
    "conn.close()"
   ]
  },
  {
   "cell_type": "markdown",
   "metadata": {},
   "source": [
    "## Organizers"
   ]
  },
  {
   "cell_type": "code",
   "execution_count": 27,
   "metadata": {},
   "outputs": [
    {
     "name": "stdout",
     "output_type": "stream",
     "text": [
      "{'org_name': 'elrow', 'first_name': 'Michael', 'last_name': 'Bowman', 'email': 'matthew21@example.org', 'phone': '001-296-744-6807x120', 'country': 'Belarus', 'website': 'https://white.com/', 'notifications': True}\n",
      "{'org_name': 'LWE', 'first_name': 'Amy', 'last_name': 'Davis', 'email': 'david55@example.org', 'phone': '001-231-716-7151x937', 'country': 'Belgium', 'website': 'https://durham.net/', 'notifications': True}\n",
      "{'org_name': 'Alternative Projects', 'first_name': 'Monique', 'last_name': 'Ali', 'email': 'kevin92@example.org', 'phone': '515.382.0035', 'country': \"Cote d'Ivoire\", 'website': 'http://www.stevens.com/', 'notifications': False}\n",
      "{'org_name': 'Azulu', 'first_name': 'Matthew', 'last_name': 'Taylor', 'email': 'christopherschmidt@example.com', 'phone': '367.227.0052', 'country': 'Cape Verde', 'website': 'http://www.hughes.info/', 'notifications': True}\n",
      "Connected to MySQL database successfully!\n"
     ]
    }
   ],
   "source": [
    "org_name = [\"elrow\", \"LWE\", \"Alternative Projects\", \"Azulu\"]\n",
    "\n",
    "orgs = []\n",
    "\n",
    "for org in org_name:\n",
    "    first_name = fake.first_name()\n",
    "    last_name = fake.last_name()\n",
    "    email = fake.email()\n",
    "    phone = fake.phone_number()\n",
    "    country = fake.country()\n",
    "    website = fake.url()\n",
    "    notifications = random.choice([True, False])  # Random choice for boolean value\n",
    "\n",
    "    orgs.append({\n",
    "        \"org_name\": org,\n",
    "        \"first_name\": first_name,\n",
    "        \"last_name\": last_name,\n",
    "        \"email\": email,\n",
    "        \"phone\": phone,\n",
    "        \"country\": country,\n",
    "        \"website\": website,\n",
    "        \"notifications\": notifications\n",
    "    })\n",
    "\n",
    "# Print sample users\n",
    "for o in orgs:\n",
    "    print(o)\n",
    "\n",
    "\n",
    "try:\n",
    "    conn = mysql.connector.connect(**db_config)  # Using mysql-connector\n",
    "    cursor = conn.cursor()\n",
    "    print(\"Connected to MySQL database successfully!\")\n",
    "    for org in orgs:\n",
    "        cursor.execute(\"\"\"\n",
    "            INSERT INTO organizer (org_name, first_name, last_name, email, phone, country, website, notifications) VALUES (%s, %s, %s, %s, %s, %s, %s, %s)\"\"\", (org['org_name'], org['first_name'], org['last_name'], org['email'], org['phone'], org['country'], org['website'], org['notifications'])\n",
    "        )\n",
    "    conn.commit()\n",
    "\n",
    "except mysql.connector.Error as err:\n",
    "    print(f\"Error: {err}\")\n",
    "\n",
    "cursor.close()\n",
    "conn.close()"
   ]
  }
 ],
 "metadata": {
  "kernelspec": {
   "display_name": "Python 3 (ipykernel)",
   "language": "python",
   "name": "python3"
  },
  "language_info": {
   "codemirror_mode": {
    "name": "ipython",
    "version": 3
   },
   "file_extension": ".py",
   "mimetype": "text/x-python",
   "name": "python",
   "nbconvert_exporter": "python",
   "pygments_lexer": "ipython3",
   "version": "3.8.3"
  }
 },
 "nbformat": 4,
 "nbformat_minor": 2
}
